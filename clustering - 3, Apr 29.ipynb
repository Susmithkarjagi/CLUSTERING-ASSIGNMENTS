{
 "cells": [
  {
   "cell_type": "markdown",
   "id": "83b9fc05-81eb-47f8-9ea1-9bdb23a77c48",
   "metadata": {},
   "source": [
    "## Assignment on Clustering - 2"
   ]
  },
  {
   "cell_type": "markdown",
   "id": "adcb683e-bf50-46f7-b528-152df457629d",
   "metadata": {},
   "source": [
    "Q1. Explain the basic concept of clustering and give examples of applications where clustering is useful."
   ]
  },
  {
   "cell_type": "markdown",
   "id": "68ef1e63-93bf-4663-8e8c-4f5c128c4020",
   "metadata": {},
   "source": [
    "Clustering is a type of unsupervised machine learning technique that is used to group data points or objects that are similar to each other. The main aim of clustering is to identify patterns or groups within large volumes of data. Essentially, it's the process of dividing the entire data into groups (also known as clusters) based on the patterns in the data.\n",
    "\n",
    "There are several clustering algorithms, including K-means, Hierarchical clustering, DBSCAN, and Mean-Shift clustering among others. The choice of a specific clustering algorithm usually depends on the specifics of the data and the problem being solved.\n",
    "\n",
    "\n",
    "\n",
    "Clustering has a wide range of applications in various domains:\n",
    "\n",
    "Customer Segmentation: Businesses use clustering to segment customers into different groups based on purchasing behavior, demographics, or other characteristics. This can help them tailor marketing strategies to each group.\n",
    "\n",
    "Image Segmentation: In computer vision, clustering can be used to segment an image into different regions or objects.\n",
    "\n",
    "Document Clustering: In natural language processing, clustering is often used for document categorization, grouping similar documents together.\n",
    "\n",
    "Anomaly Detection: In cybersecurity or credit card fraud detection, clustering can be used to detect abnormal behavior or outliers.\n",
    "\n",
    "Bioinformatics: Clustering is often used in bioinformatics, for example, to group genes with similar expression patterns.\n",
    "\n",
    "Social Network Analysis: Clustering can be used to find communities within social networks, where members of a community are more tightly connected to each other than to the rest of the network.\n",
    "\n",
    "Search Result Grouping: Search engines can use clustering to group similar types of results, which helps improve the relevance of the search results."
   ]
  },
  {
   "cell_type": "code",
   "execution_count": null,
   "id": "d5b228a3-5f43-4c40-939c-096e40e1f386",
   "metadata": {},
   "outputs": [],
   "source": []
  },
  {
   "cell_type": "markdown",
   "id": "42fe50f8-897d-4983-9c93-e7ec5987496f",
   "metadata": {},
   "source": [
    "Q2. What is DBSCAN and how does it differ from other clustering algorithms such as k-means and hierarchical clustering?"
   ]
  },
  {
   "cell_type": "markdown",
   "id": "ba0788f7-1e23-47cc-ab4f-f6ece5651069",
   "metadata": {},
   "source": [
    ". DBSCAN (Density-Based Spatial Clustering of Applications with Noise) is a popular density-based clustering algorithm that separates regions with a high density of data points from regions with a low density of data points. Unlike partitioning-based methods like K-means or hierarchical methods, DBSCAN does not require the user to specify the number of clusters in advance and it can discover clusters of arbitrary shapes, which can be a great advantage when dealing with real-world data.\n",
    "\n",
    "\n",
    "Here's a brief overview of how DBSCAN works:\n",
    "\n",
    "For each point in the dataset, the algorithm calculates the number of other points within a specified radius (Eps), and if a point has at least a certain number of points (MinPts) in its Eps-neighborhood, it is considered a core point.\n",
    "\n",
    "If a point is within the Eps-neighborhood of a core point but doesn't have MinPts within its own Eps-neighborhood, it is considered a border point.\n",
    "\n",
    "If a point is neither a core point nor a border point, it is considered a noise point.\n",
    "\n",
    "The DBSCAN algorithm starts with an arbitrary point, and if there are at least MinPts within a radius of Eps from that point, a new cluster is created. The cluster then grows by adding all directly reachable points from the core points, and this process continues recursively. The process ends when no more points can be added to the cluster, and then a new unvisited point is chosen and the same procedure is repeated.\n",
    "\n",
    "\n",
    "Here are the main differences between DBSCAN and other popular clustering algorithms:\n",
    "\n",
    "DBSCAN vs K-means:\n",
    "\n",
    "Number of Clusters: In K-means, we need to specify the number of clusters (K) in advance. However, in DBSCAN, we do not need to specify the number of clusters beforehand, which is a major advantage when the number of clusters is unknown.\n",
    "\n",
    "Shape of Clusters: K-means is limited to identifying spherical clusters or convex shapes, as it minimizes variance. DBSCAN, on the other hand, can find arbitrarily shaped clusters, as it clusters points based on a density measure.\n",
    "\n",
    "Handling Noise: K-means assigns all data points to a cluster whether they belong to a well-defined cluster or not, which can lead to misclassification. DBSCAN, in contrast, can separate noise points (outliers) from clustered data points.\n",
    "\n",
    "DBSCAN vs Hierarchical Clustering:\n",
    "\n",
    "Shape of Clusters: Just like with K-means, traditional hierarchical clustering also tends to find spherical clusters, and it may not work well with clusters of arbitrary shapes. DBSCAN does not have this limitation.\n",
    "\n",
    "Efficiency: Hierarchical clustering has a time complexity of O(n^2) for n data points, making it less efficient for large datasets. DBSCAN, with a time complexity of O(n log n), is more efficient for larger datasets.\n",
    "\n",
    "Number of Clusters: Both DBSCAN and hierarchical clustering do not require the number of clusters to be specified in advance, unlike K-means. However, in hierarchical clustering, a dendrogram is used to manually select the number of clusters, whereas DBSCAN automatically identifies the clusters."
   ]
  },
  {
   "cell_type": "code",
   "execution_count": null,
   "id": "804c7092-6fc5-4ce3-b3cd-ce1913fce239",
   "metadata": {},
   "outputs": [],
   "source": []
  },
  {
   "cell_type": "markdown",
   "id": "e4060e43-9ad8-45e8-9e08-a10901526e96",
   "metadata": {},
   "source": [
    "Q3. How do you determine the optimal values for the epsilon and minimum points parameters in DBSCAN clustering?"
   ]
  },
  {
   "cell_type": "markdown",
   "id": "d622010d-4f28-476a-83c0-7ec6c7aafc4b",
   "metadata": {},
   "source": [
    "Choosing appropriate values for the epsilon (Eps) and minimum points (MinPts) parameters in DBSCAN is crucial to its performance. However, it's often challenging because the optimal values can greatly depend on the dataset and the scale of the features.\n",
    "\n",
    "Here are some general strategies to determine the optimal values:\n",
    "\n",
    "Epsilon (Eps): A common approach to determine the optimal value for Eps is the k-distance graph. Here is how to create this graph:\n",
    "\n",
    "For each point, compute the distance to its kth nearest neighbor, where k might be specified as MinPts. These distances are then sorted in ascending order.\n",
    "\n",
    "Plot these distances. The graph typically shows a sharp bend, known as an \"elbow\". The y-coordinate of this elbow point is considered as a good estimate for Eps.\n",
    "\n",
    "Minimum Points (MinPts): The choice of MinPts can be less critical than the choice of Eps but it still can significantly influence the results. As a rule of thumb, a minimum MinPts can be derived from the number of dimensions D in the dataset, as MinPts ≥ D + 1. This helps to ensure that the dataset is dense enough for clustering to be meaningful. Larger values are usually better for data sets with noise and will form more significant clusters, and smaller values will be more prone to over-segmentation.\n",
    "\n",
    "In practice, often a trial and error method is used in which different values are tested and the results are compared. The best values are the ones that produce clusters most closely aligned with the requirements of the specific project or application."
   ]
  },
  {
   "cell_type": "code",
   "execution_count": null,
   "id": "783f6887-1300-45c5-a383-f118b1e07fba",
   "metadata": {},
   "outputs": [],
   "source": []
  },
  {
   "cell_type": "markdown",
   "id": "4b3b1d9d-7001-431c-878a-b5098641ea4b",
   "metadata": {},
   "source": [
    "Q4. How does DBSCAN clustering handle outliers in a dataset?"
   ]
  },
  {
   "cell_type": "markdown",
   "id": "8f7a9fa5-a034-4d18-80aa-c8b6cf313a69",
   "metadata": {},
   "source": [
    " One of the key advantages of DBSCAN (Density-Based Spatial Clustering of Applications with Noise) over many other clustering algorithms is its ability to find and handle outliers.\n",
    "\n",
    "In DBSCAN, there are three types of data points: core points, border points, and noise points. These categories are determined based on two parameters: Eps (the maximum distance between two samples for them to be considered as in the same neighborhood) and MinPts (the number of samples in a neighborhood for a point to be considered as a core point).\n",
    "\n",
    "Core points are those that have at least MinPts within their Eps-neighborhood.\n",
    "Border points have fewer than MinPts within their Eps-neighborhood, but are in the neighborhood of a core point.\n",
    "Noise points, also often considered as outliers, are those that are neither core nor border points. These points do not belong to any cluster.\n",
    "Thus, DBSCAN does not force outliers into clusters like some other algorithms do (e.g., K-means), but instead recognizes and treats them as a special category (noise). This ability to identify noise points makes DBSCAN a better choice than many other clustering algorithms when it comes to datasets with a significant number of outliers."
   ]
  },
  {
   "cell_type": "code",
   "execution_count": null,
   "id": "e1b444ec-7ce3-4b4d-b92e-07d4cbb2f789",
   "metadata": {},
   "outputs": [],
   "source": []
  },
  {
   "cell_type": "markdown",
   "id": "e2ee4036-f81c-4a9e-9bbc-0f5835d1ad0a",
   "metadata": {},
   "source": [
    "Q5. How does DBSCAN clustering differ from k-means clustering?"
   ]
  },
  {
   "cell_type": "markdown",
   "id": "6f439bed-7f5b-46dc-a16b-6d8f603be574",
   "metadata": {},
   "source": [
    "DBSCAN (Density-Based Spatial Clustering of Applications with Noise) and K-means clustering are two fundamentally different clustering algorithms with distinct approaches to grouping data points. Here are the main differences between DBSCAN and K-means clustering:\n",
    "\n",
    "Algorithm Type:\n",
    "\n",
    "DBSCAN: DBSCAN is a density-based clustering algorithm. It groups data points based on the density of points within their neighborhood.\n",
    "K-means: K-means is a partition-based clustering algorithm. It assigns data points to clusters by minimizing the sum of squared distances between data points and their assigned cluster centroids.\n",
    "\n",
    "Cluster Shape:\n",
    "\n",
    "DBSCAN: DBSCAN can discover clusters of arbitrary shape, as it uses density reachability to form clusters. It can handle clusters that have irregular shapes, density variation, and can even detect noise (outliers).\n",
    "K-means: K-means assumes that clusters are spherical and equally sized. It tends to work well when the clusters are well-defined and have a similar size.\n",
    "\n",
    "Number of Clusters:\n",
    "\n",
    "DBSCAN: DBSCAN does not require specifying the number of clusters in advance. It automatically determines the number of clusters based on the data density and parameters like Eps and MinPts.\n",
    "K-means: K-means requires the user to specify the number of clusters (K) before running the algorithm. This can be a disadvantage when the optimal number of clusters is unknown.\n",
    "\n",
    "Handling Outliers:\n",
    "\n",
    "DBSCAN: DBSCAN naturally handles outliers by classifying them as noise points. It identifies points that do not belong to any cluster and separates them from the clustered data points.\n",
    "K-means: K-means forces every data point to belong to a cluster, even if it is an outlier. Outliers may distort the cluster centroids and affect the quality of the clustering.\n",
    "\n",
    "Centroid vs. Density:\n",
    "\n",
    "DBSCAN: DBSCAN does not use centroids; instead, it clusters data points based on the density of neighboring points.\n",
    "K-means: K-means uses centroids as representatives for each cluster. Data points are assigned to the nearest centroid during the clustering process."
   ]
  },
  {
   "cell_type": "code",
   "execution_count": null,
   "id": "6234ee79-a8cd-4f86-a057-0f56871d5264",
   "metadata": {},
   "outputs": [],
   "source": []
  },
  {
   "cell_type": "markdown",
   "id": "61f249b9-b587-43f6-a319-5776659c3ff9",
   "metadata": {},
   "source": [
    "Q6.Can DBSCAN clustering be applied to datasets with high dimensional feature spaces? If so, what are some potential challenges?"
   ]
  },
  {
   "cell_type": "markdown",
   "id": "229e9f47-dbc6-412b-9cf7-fb7631d342bf",
   "metadata": {},
   "source": [
    "DBSCAN (Density-Based Spatial Clustering of Applications with Noise) can be applied to datasets with high-dimensional feature spaces, but it can face challenges due to the \"curse of dimensionality\". The curse of dimensionality refers to the various phenomena that arise when analyzing and organizing data in high-dimensional spaces that do not occur in low-dimensional spaces.\n",
    "\n",
    "\n",
    "Here are some potential challenges:\n",
    "\n",
    "Distance Measures Become Less Informative: As the number of dimensions increases, the distance between any two data points in the space tends to become more similar. This is problematic for DBSCAN, as it heavily relies on distance measures to determine the density of regions. The core concept of DBSCAN, which is density reachability based on a radius epsilon, can become meaningless in high dimensional space.\n",
    "\n",
    "Sparsity of High-Dimensional Spaces: High-dimensional spaces are inherently sparse. This sparsity can make it difficult for DBSCAN to form clusters, as the algorithm relies on having a certain number of points (MinPts) within a certain distance (Eps) to form clusters.\n",
    "\n",
    "Increased Computational Complexity: With the increase in dimensions, the computational complexity increases as well. Calculating distances between points in a high-dimensional space can be computationally intensive, which might make the algorithm slow and inefficient for high-dimensional data.\n",
    "\n",
    "\n",
    "To address these challenges, several strategies can be applied:\n",
    "\n",
    "Feature Selection: Identify and select only the most informative features to include in the model, thereby reducing the dimensionality of the problem.\n",
    "\n",
    "Feature Extraction: Use methods such as Principal Component Analysis (PCA) to reduce the dimensionality of the data while preserving its structure and relationships.\n",
    "\n",
    "Subspace Clustering: This refers to the task of finding clusters in subspaces of the dataset, where a subspace is a lower-dimensional subset of the original high-dimensional space."
   ]
  },
  {
   "cell_type": "code",
   "execution_count": null,
   "id": "928d0f3a-944a-4668-9c92-d4823c460662",
   "metadata": {},
   "outputs": [],
   "source": []
  },
  {
   "cell_type": "markdown",
   "id": "3c4c9df8-80aa-489f-ad31-f1630127da1c",
   "metadata": {},
   "source": [
    "Q7. How does DBSCAN clustering handle clusters with varying densities?"
   ]
  },
  {
   "cell_type": "markdown",
   "id": "ded395d3-4600-4d6d-bee5-1df62b40bfdb",
   "metadata": {},
   "source": [
    "DBSCAN (Density-Based Spatial Clustering of Applications with Noise) primarily struggles with clusters of varying densities. It operates under the assumption that density within a cluster is relatively uniform.\n",
    "\n",
    "In DBSCAN, the Eps and MinPts parameters define what it means for points to be close, thus determining the \"density\" required for points to form a cluster. However, these parameters are global, meaning they apply equally to all data points in the dataset. Therefore, if clusters have different densities,DBSCAN might not be able to identify all of the clusters correctly. It may either:\n",
    "1)Merge two clusters that are close together but should be separate because they have different densities.\n",
    "2)Fail to detect a cluster that is less dense than the defined density (as determined by Eps and MinPts).\n",
    "\n",
    "For datasets where clusters have widely varying densities, an extension of DBSCAN called OPTICS (Ordering Points To Identify the Clustering Structure) might be a better choice. OPTICS does not produce a clustering of a data set explicitly, but instead creates an augmented ordering of the database representing its density-based clustering structure. This cluster ordering contains information equivalent to the density-based clusterings corresponding to a broad range of parameter settings.\n",
    "\n",
    "Another alternative is HDBSCAN (Hierarchical DBSCAN), which handles varying densities better than DBSCAN. HDBSCAN is a hierarchical clustering algorithm, and by using hierarchy, it can identify clusters that are nested within larger, less dense clusters."
   ]
  },
  {
   "cell_type": "code",
   "execution_count": null,
   "id": "fb322870-84ff-4b6d-b8ad-fad211a2e511",
   "metadata": {},
   "outputs": [],
   "source": []
  },
  {
   "cell_type": "markdown",
   "id": "a076f70c-8898-4107-9bf2-8a6595a841fd",
   "metadata": {},
   "source": [
    "Q8. What are some common evaluation metrics used to assess the quality of DBSCAN clustering results?"
   ]
  },
  {
   "cell_type": "markdown",
   "id": "560f63a6-e002-4f9d-852d-acef2c2ed5d6",
   "metadata": {},
   "source": [
    "Evaluating the results of clustering can be somewhat challenging since clustering is an unsupervised technique, and there's often no \"ground truth\" to compare against. However, there are various measures that can be used to assess the quality of DBSCAN clustering results. These can be broadly classified into two types: external indices and internal indices.\n",
    "\n",
    "1)External Indices: These measures require the ground truth labels for the data. They evaluate the results of the clustering algorithm based on this true label information.\n",
    "\n",
    "1.1)Adjusted Rand Index (ARI): ARI measures the similarity between two data clusterings. It corrects for chance grouping, with 1 indicating that the clusterings are identical, and 0 indicating the clustering is no better than random.\n",
    "\n",
    "1.2)Normalized Mutual Information (NMI): NMI is a normalization of the Mutual Information (MI) score to scale the results between 0 (no mutual information) and 1 (perfect correlation).\n",
    "\n",
    "1.3)Fowlkes-Mallows index (FMI): The Fowlkes-Mallows index is the geometric mean of precision and recall. A higher value indicates better clustering.\n",
    "\n",
    "2)Internal Indices: These measures do not require any true label information and are based only on the data and the clustering result itself.\n",
    "\n",
    "2.1)Silhouette Score: The silhouette score measures how close each point in one cluster is to the points in the neighboring clusters. Its value ranges from -1 to 1, with 1 indicating that the clusters are well apart from each other and -1 indicating that clusters are overlapping.\n",
    "\n",
    "2.2)Davies-Bouldin Index (DBI): The DBI is the average similarity measure of each cluster with its most similar cluster, where similarity is the ratio of within-cluster distances to between-cluster distances. The lower the DBI, the better.\n",
    "\n",
    "2.3)Density-Based Clustering Validation (DBCV): DBCV is an internal validation scheme specifically designed for density-based clustering algorithms like DBSCAN. It can handle noise, and finds clusters of arbitrary shape, and uses a density-connected separation to define cluster separation and cluster compactness."
   ]
  },
  {
   "cell_type": "code",
   "execution_count": null,
   "id": "9ff1b450-7792-4d1b-bbf9-4fb983240e5e",
   "metadata": {},
   "outputs": [],
   "source": []
  },
  {
   "cell_type": "markdown",
   "id": "1ae7a3c8-5b58-4e5f-9b56-d058b0e6a3f8",
   "metadata": {},
   "source": [
    "Q9. Can DBSCAN clustering be used for semi-supervised learning tasks?"
   ]
  },
  {
   "cell_type": "markdown",
   "id": "3ab2bede-ac07-4135-9388-21ee6bf0c3c9",
   "metadata": {},
   "source": [
    "Yes, DBSCAN can be used for semi-supervised learning tasks, but it's important to note that DBSCAN, and clustering algorithms in general, are fundamentally unsupervised learning methods.\n",
    "\n",
    "Semi-supervised learning involves using both labeled and unlabeled data for training. The basic idea behind semi-supervised learning is that during training, the model uses the small amount of labeled data to learn something about the underlying structure of the data, which it then applies to the large amount of unlabeled data.\n",
    "\n",
    "In the case of DBSCAN, you could first run the algorithm on your entire dataset (both labeled and unlabeled instances). The algorithm will then identify clusters based on the distribution and density of the data points. Once the clusters are formed, you could then apply a label to each cluster based on the labels of the known instances within it.\n",
    "\n",
    "For example, if you have a cluster with a majority of labeled instances known to be of a certain class, you could then assign this class label to all instances within that cluster, effectively labeling your previously unlabeled data.\n",
    "\n",
    "Remember that DBSCAN does not guarantee an equal number of clusters to the number of classes you have in your data. Therefore, this approach might not be suitable if the class boundaries are not well represented by density-based clusters."
   ]
  },
  {
   "cell_type": "code",
   "execution_count": null,
   "id": "35809770-db33-418c-8e60-ff397776adec",
   "metadata": {},
   "outputs": [],
   "source": []
  },
  {
   "cell_type": "markdown",
   "id": "ccfb557e-708c-45de-92d6-36887971d8df",
   "metadata": {},
   "source": [
    "Q10. How does DBSCAN clustering handle datasets with noise or missing values?"
   ]
  },
  {
   "cell_type": "markdown",
   "id": "3b286a80-c30c-40c3-8cd5-9c3729c3f69d",
   "metadata": {},
   "source": [
    "DBSCAN (Density-Based Spatial Clustering of Applications with Noise) is designed to handle datasets with noise efficiently. Unlike many other clustering algorithms, DBSCAN can identify noise points and separate them from the clustered data points. Noise points are those that do not fall into the Eps radius of MinPts number of points. These are considered as outliers and are not assigned to any cluster.\n",
    "\n",
    "However, handling missing values is a different story. DBSCAN, like many machine learning algorithms, does not directly handle missing values. Missing data can be problematic because DBSCAN relies on distance measures to form clusters, and when some data is missing, these distances can't be calculated accurately.\n",
    "\n",
    "Here are some common strategies to deal with missing values before applying DBSCAN or any clustering algorithm:\n",
    "\n",
    "Removing: Simply remove data points with missing values. This is only recommended if only a very small fraction of the data points have missing values, as it can lead to loss of information.\n",
    "\n",
    "Imputation: Replace missing values with substituted values. The substituted values can be a measure of central tendency like mean, median, mode, or they can be estimated using more complex methods like regression, or using algorithms such as k-Nearest Neighbors or MICE (Multivariate Imputation by Chained Equations).\n",
    "\n",
    "DataWig: This is a machine learning tool developed by Amazon for imputing missing values in tables, based on the other values in the table. It's especially useful when dealing with categorical data or text."
   ]
  },
  {
   "cell_type": "code",
   "execution_count": null,
   "id": "8c1adb0a-0092-4a17-a2f0-b2d4b7823cfc",
   "metadata": {},
   "outputs": [],
   "source": []
  },
  {
   "cell_type": "markdown",
   "id": "f18f3e34-1c2c-4edf-8f04-f2d0f8ad3088",
   "metadata": {},
   "source": [
    "Q11. Implement the DBSCAN algorithm using a python programming language, and apply it to a sample dataset. Discuss the clustering results and interpret the meaning of the obtained clusters."
   ]
  },
  {
   "cell_type": "code",
   "execution_count": 1,
   "id": "a71ec109-c134-4f38-8e5b-4af1f35549b4",
   "metadata": {},
   "outputs": [
    {
     "data": {
      "image/png": "[encoded data removed]",
      "text/plain": [
       "<Figure size 640x480 with 1 Axes>"
      ]
     },
     "metadata": {},
     "output_type": "display_data"
    }
   ],
   "source": [
    "from sklearn.datasets import make_moons\n",
    "from sklearn.preprocessing import StandardScaler\n",
    "from sklearn.cluster import DBSCAN\n",
    "import matplotlib.pyplot as plt\n",
    "\n",
    "# Generate sample data\n",
    "X, y = make_moons(n_samples=500, noise=0.1, random_state=0)\n",
    "X = StandardScaler().fit_transform(X)\n",
    "\n",
    "# Implement DBSCAN\n",
    "db = DBSCAN(eps=0.3, min_samples=5)\n",
    "db.fit(X)\n",
    "\n",
    "# Plot the clusters and noise points\n",
    "labels = db.labels_\n",
    "unique_labels = set(labels)\n",
    "colors = ['blue', 'red', 'green', 'purple', 'black']\n",
    "\n",
    "for k in unique_labels:\n",
    "    class_member_mask = (labels == k)\n",
    "    xy = X[class_member_mask]\n",
    "    plt.scatter(xy[:, 0], xy[:, 1], color=colors[k], s=50)\n",
    "\n",
    "plt.title('DBSCAN Clustering')\n",
    "plt.show()\n"
   ]
  },
  {
   "cell_type": "code",
   "execution_count": null,
   "id": "a8521718-d765-404f-8c17-b158bcc60a85",
   "metadata": {},
   "outputs": [],
   "source": []
  },
  {
   "cell_type": "code",
   "execution_count": null,
   "id": "4ba10091-e9c7-4b5b-ac09-5a05e8b24f18",
   "metadata": {},
   "outputs": [],
   "source": []
  },
  {
   "cell_type": "code",
   "execution_count": null,
   "id": "117adb09-54ce-465f-a713-ac90cc6f91b6",
   "metadata": {},
   "outputs": [],
   "source": []
  },
  {
   "cell_type": "code",
   "execution_count": null,
   "id": "01311230-b7a8-4908-a1a2-432941ce70ba",
   "metadata": {},
   "outputs": [],
   "source": []
  },
  {
   "cell_type": "code",
   "execution_count": null,
   "id": "e3ca8ac1-50ee-459d-8b19-5d8ab117a5d3",
   "metadata": {},
   "outputs": [],
   "source": []
  }
 ],
 "metadata": {
  "kernelspec": {
   "display_name": "Python 3 (ipykernel)",
   "language": "python",
   "name": "python3"
  },
  "language_info": {
   "codemirror_mode": {
    "name": "ipython",
    "version": 3
   },
   "file_extension": ".py",
   "mimetype": "text/x-python",
   "name": "python",
   "nbconvert_exporter": "python",
   "pygments_lexer": "ipython3",
   "version": "3.10.8"
  }
 },
 "nbformat": 4,
 "nbformat_minor": 5
}
